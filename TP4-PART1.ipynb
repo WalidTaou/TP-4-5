{
 "cells": [
  {
   "cell_type": "markdown",
   "id": "2eabb766",
   "metadata": {},
   "source": [
    "## TP4 : LES FORETS ALEATOIRES"
   ]
  },
  {
   "cell_type": "markdown",
   "id": "8873fb8a",
   "metadata": {},
   "source": [
    "# Méthodes d’agrégation\n",
    "## A) Bagging"
   ]
  },
  {
   "cell_type": "code",
   "execution_count": 44,
   "id": "d4f50949",
   "metadata": {},
   "outputs": [],
   "source": [
    "from sklearn.ensemble import BaggingClassifier\n",
    "from sklearn.neighbors import KNeighborsClassifier\n",
    "from sklearn.datasets import load_digits\n",
    "import matplotlib.pyplot as plt\n"
   ]
  },
  {
   "cell_type": "code",
   "execution_count": 2,
   "id": "b0af1af7",
   "metadata": {},
   "outputs": [],
   "source": [
    "bagging = BaggingClassifier(KNeighborsClassifier(), max_samples=0.5,\n",
    "max_features=0.5)"
   ]
  },
  {
   "cell_type": "code",
   "execution_count": 8,
   "id": "fffc7a96",
   "metadata": {},
   "outputs": [
    {
     "data": {
      "image/png": "[encoded data removed]",
      "text/plain": [
       "<Figure size 432x288 with 10 Axes>"
      ]
     },
     "metadata": {
      "needs_background": "light"
     },
     "output_type": "display_data"
    }
   ],
   "source": [
    "# charger la base de données digits\n",
    "\n",
    "digits = load_digits()\n",
    "# Affichage des 10 premières images\n",
    "fig = plt.figure()\n",
    "for i, digit in enumerate(digits.images[:10]):\n",
    "    fig.add_subplot(1,10,i+1)\n",
    "    plt.imshow(digit)\n",
    "plt.show()"
   ]
  },
  {
   "cell_type": "code",
   "execution_count": 9,
   "id": "0599ad25",
   "metadata": {},
   "outputs": [
    {
     "name": "stdout",
     "output_type": "stream",
     "text": [
      "1.0\n"
     ]
    }
   ],
   "source": [
    "# classifieur de base un arbre de décision DecisionTreeClassifier\n",
    "import numpy as np\n",
    "from sklearn import tree\n",
    "from sklearn.ensemble import BaggingClassifier\n",
    "X, y = digits.data, digits.target\n",
    "clf = tree.DecisionTreeClassifier()\n",
    "clf.fit(X, y)\n",
    "accuracy = clf.score(X,y)\n",
    "print(accuracy)\n"
   ]
  },
  {
   "cell_type": "code",
   "execution_count": 65,
   "id": "8c0a2357",
   "metadata": {},
   "outputs": [
    {
     "data": {
      "text/plain": [
       "(1797, 64)"
      ]
     },
     "execution_count": 65,
     "metadata": {},
     "output_type": "execute_result"
    }
   ],
   "source": [
    "X.shape"
   ]
  },
  {
   "cell_type": "code",
   "execution_count": 10,
   "id": "395c10ed",
   "metadata": {},
   "outputs": [
    {
     "name": "stdout",
     "output_type": "stream",
     "text": [
      "0.6613102595797281\n"
     ]
    }
   ],
   "source": [
    "from sklearn.model_selection import train_test_split\n",
    "# 90% des données pour le test, 10% pour l'apprentissage\n",
    "X_train, X_test, y_train, y_test = train_test_split(X, y, test_size=0.90)\n",
    "clf = tree.DecisionTreeClassifier()\n",
    "clf.fit(X_train, y_train)\n",
    "Z = clf.predict(X_test)\n",
    "accuracy = clf.score(X_test,y_test)\n",
    "print(accuracy)"
   ]
  },
  {
   "cell_type": "markdown",
   "id": "e56cce90",
   "metadata": {},
   "source": [
    "# Question :\n",
    "Construire la variance de la valeur accuracy sur 100 tirages pour la séparation\n",
    "apprentissage/test. Que pouvons-nous conclure ?"
   ]
  },
  {
   "cell_type": "code",
   "execution_count": 35,
   "id": "54ab8464",
   "metadata": {},
   "outputs": [
    {
     "name": "stdout",
     "output_type": "stream",
     "text": [
      "temps d'execution 0.241713285446167\n"
     ]
    }
   ],
   "source": [
    "list_accuracy = []\n",
    "start_time = time.time()\n",
    "\n",
    "for i in range(0,100):\n",
    "    X_train, X_test, y_train, y_test = train_test_split(X, y, test_size=0.90)\n",
    "    clf = tree.DecisionTreeClassifier()\n",
    "    clf.fit(X_train, y_train)\n",
    "    Z = clf.predict(X_test)\n",
    "    accuracy = clf.score(X_test,y_test)\n",
    "    list_accuracy.append(accuracy)\n",
    "end_time = time.time()\n",
    "print(\"temps d'execution\",str(end_time - start_time))"
   ]
  },
  {
   "cell_type": "code",
   "execution_count": 36,
   "id": "8ddedbd2",
   "metadata": {},
   "outputs": [
    {
     "name": "stdout",
     "output_type": "stream",
     "text": [
      "la variance de la valeur accuracy sur 100 tirage est :0.030361897009144597\n"
     ]
    }
   ],
   "source": [
    "print(f\"la variance de la valeur accuracy sur 100 tirage est :{np.std(list_accuracy)}\")"
   ]
  },
  {
   "cell_type": "raw",
   "id": "32732bf3",
   "metadata": {},
   "source": [
    "# Que pouvons-nous conclure ? "
   ]
  },
  {
   "cell_type": "raw",
   "id": "d2116aaf",
   "metadata": {},
   "source": [
    "Nous avons trainer 100 fois le meme modele avec le meme pourcentage de séparation des données de test et d'apprentissage et à la fin nous avons obtenu 3% comme variance d'accuracy ceci dit 3% d'erreur ce qui n'est pas bien du tout par rapport à une arbre de décision "
   ]
  },
  {
   "cell_type": "code",
   "execution_count": 21,
   "id": "eb1b0eb5",
   "metadata": {},
   "outputs": [],
   "source": [
    "clf = BaggingClassifier(tree.DecisionTreeClassifier(),\n",
    "max_samples=0.5, max_features=0.5, n_estimators=200)"
   ]
  },
  {
   "cell_type": "code",
   "execution_count": 22,
   "id": "ee4a2b53",
   "metadata": {},
   "outputs": [],
   "source": [
    "clf.fit(X_train, y_train)\n",
    "Z = clf.predict(X_test)\n",
    "accuracy=clf.score(X_test,y_test)"
   ]
  },
  {
   "cell_type": "code",
   "execution_count": 23,
   "id": "28b948bb",
   "metadata": {},
   "outputs": [
    {
     "data": {
      "text/plain": [
       "0.8955500618046972"
      ]
     },
     "execution_count": 23,
     "metadata": {},
     "output_type": "execute_result"
    }
   ],
   "source": [
    "accuracy"
   ]
  },
  {
   "cell_type": "markdown",
   "id": "ab5127ff",
   "metadata": {},
   "source": [
    "# #  QUESTION"
   ]
  },
  {
   "cell_type": "code",
   "execution_count": 29,
   "id": "f3e60727",
   "metadata": {},
   "outputs": [
    {
     "name": "stdout",
     "output_type": "stream",
     "text": [
      "temps d'execution 34.7470428943634\n"
     ]
    }
   ],
   "source": [
    "import time\n",
    "start_time = time.time()\n",
    "list_accuracy = []\n",
    "for i in range(0,100):\n",
    "    X_train, X_test, y_train, y_test = train_test_split(X, y, test_size=0.90)\n",
    "    clf = BaggingClassifier(tree.DecisionTreeClassifier(),\n",
    "max_samples=0.5, max_features=0.5, n_estimators=200)\n",
    "    clf.fit(X_train, y_train)\n",
    "    Z = clf.predict(X_test)\n",
    "    accuracy = clf.score(X_test,y_test)\n",
    "    list_accuracy.append(accuracy)\n",
    "end_time = time.time()\n",
    "print(\"temps d'execution\",str(end_time - start_time))"
   ]
  },
  {
   "cell_type": "code",
   "execution_count": 30,
   "id": "e71bfa39",
   "metadata": {},
   "outputs": [
    {
     "name": "stdout",
     "output_type": "stream",
     "text": [
      "la variance de la valeur accuracy sur 100 tirage est :0.01495369213769333\n"
     ]
    }
   ],
   "source": [
    "print(f\"la variance de la valeur accuracy sur 100 tirage est :{np.std(list_accuracy)}\")"
   ]
  },
  {
   "cell_type": "raw",
   "id": "9edefcd0",
   "metadata": {},
   "source": [
    "Contrairement à l'autre méthode qu'elle était très rapide et qu'elle a pris seulement 0.24s pour faire le traitement,la méthode de bagging elle a pris beaucoup de temps , 34.74 mais c'est tout a fait normal vu l'algorithme qu'elle suit . Cependant avec la méthode de bagging la variance a diminué avec 2% en effet on a passé du 3% dans l'autre methode  à 1% avec cette méthode du coup cette méthode est beacoup plus mieux que l'autre en terme de minimisation d'erreur "
   ]
  },
  {
   "cell_type": "code",
   "execution_count": 59,
   "id": "5dc3b957",
   "metadata": {},
   "outputs": [
    {
     "data": {
      "text/plain": [
       "<Figure size 432x288 with 0 Axes>"
      ]
     },
     "metadata": {},
     "output_type": "display_data"
    }
   ],
   "source": [
    "X_train, X_test, y_train, y_test = train_test_split(X, y, test_size=0.90)\n",
    "plt.figure()\n",
    "n_estm = []\n",
    "n_accuracy = []\n",
    "for i in range(1,200,5):\n",
    "    clf = BaggingClassifier(tree.DecisionTreeClassifier(),max_samples=0.5, max_features=0.5, n_estimators=i)\n",
    "    clf.fit(X_train, y_train)\n",
    "    accuracy = clf.score(X_test,y_test)\n",
    "    n_estm.append(i)\n",
    "    n_accuracy.append(accuracy)\n",
    "    \n",
    "  \n",
    "    "
   ]
  },
  {
   "cell_type": "code",
   "execution_count": 63,
   "id": "e0a257bb",
   "metadata": {},
   "outputs": [
    {
     "data": {
      "image/png": "[encoded data removed]",
      "text/plain": [
       "<Figure size 432x288 with 1 Axes>"
      ]
     },
     "metadata": {
      "needs_background": "light"
     },
     "output_type": "display_data"
    }
   ],
   "source": [
    "plt.figure()\n",
    "plt.plot(n_estm,n_accuracy)\n",
    "plt.xlabel('number of estimators')\n",
    "plt.ylabel('accuracy')\n",
    "plt.title('Accuracy Vs number of estimator')\n",
    "plt.show()"
   ]
  },
  {
   "cell_type": "raw",
   "id": "abb0feef",
   "metadata": {},
   "source": [
    "Nous avons constater qu' à partir d'un nombre d'estimateurs égale à 100 , nous remarquons une accuracy stable entre 0.8 et 0.9 . Ce qui explique que le bon nombre d'estimateurs qu'on peut prendre est entre 100 et 150 "
   ]
  },
  {
   "cell_type": "markdown",
   "id": "d6c488d6",
   "metadata": {},
   "source": [
    "# Question :"
   ]
  },
  {
   "cell_type": "raw",
   "id": "a04d2a36",
   "metadata": {},
   "source": [
    "Faites varier les parametres max_samples et max_features. Pour quelles valeurs on obtient le\n",
    "meilleur résultat ? On pourra notamment utiliser GridSearchCV pour réaliser une recherche\n",
    "systématique"
   ]
  },
  {
   "cell_type": "code",
   "execution_count": 94,
   "id": "d7c47be2",
   "metadata": {},
   "outputs": [],
   "source": [
    "Dict = {\"max_samples\":[0.1 , 0.2 , 0.3, 0.4 ,0.5,0.6,0.7,0.8,0.9,1.0],\n",
    "       \"max_features\": [i for i in range(0,X.shape[1],5)],\n",
    "       \"n_estimators\":[200]}"
   ]
  },
  {
   "cell_type": "code",
   "execution_count": 95,
   "id": "b765719d",
   "metadata": {},
   "outputs": [
    {
     "data": {
      "text/plain": [
       "{'max_samples': [0.1, 0.2, 0.3, 0.4, 0.5, 0.6, 0.7, 0.8, 0.9, 1.0],\n",
       " 'max_features': [0, 5, 10, 15, 20, 25, 30, 35, 40, 45, 50, 55, 60],\n",
       " 'n_estimators': [200]}"
      ]
     },
     "execution_count": 95,
     "metadata": {},
     "output_type": "execute_result"
    }
   ],
   "source": [
    "Dict"
   ]
  },
  {
   "cell_type": "code",
   "execution_count": 96,
   "id": "393dc5e9",
   "metadata": {},
   "outputs": [],
   "source": [
    "from sklearn.model_selection import GridSearchCV\n",
    "clf = BaggingClassifier(tree.DecisionTreeClassifier())\n",
    "clf_grid = GridSearchCV(clf, Dict)"
   ]
  },
  {
   "cell_type": "code",
   "execution_count": 97,
   "id": "623caeaf",
   "metadata": {
    "scrolled": true
   },
   "outputs": [
    {
     "name": "stderr",
     "output_type": "stream",
     "text": [
      "/home/etudiant/anaconda3/lib/python3.9/site-packages/sklearn/model_selection/_validation.py:372: FitFailedWarning: \n",
      "50 fits failed out of a total of 650.\n",
      "The score on these train-test partitions for these parameters will be set to nan.\n",
      "If these failures are not expected, you can try to debug them by setting error_score='raise'.\n",
      "\n",
      "Below are more details about the failures:\n",
      "--------------------------------------------------------------------------------\n",
      "50 fits failed with the following error:\n",
      "Traceback (most recent call last):\n",
      "  File \"/home/etudiant/anaconda3/lib/python3.9/site-packages/sklearn/model_selection/_validation.py\", line 680, in _fit_and_score\n",
      "    estimator.fit(X_train, y_train, **fit_params)\n",
      "  File \"/home/etudiant/anaconda3/lib/python3.9/site-packages/sklearn/ensemble/_bagging.py\", line 269, in fit\n",
      "    return self._fit(X, y, self.max_samples, sample_weight=sample_weight)\n",
      "  File \"/home/etudiant/anaconda3/lib/python3.9/site-packages/sklearn/ensemble/_bagging.py\", line 342, in _fit\n",
      "    raise ValueError(\"max_features must be in (0, n_features]\")\n",
      "ValueError: max_features must be in (0, n_features]\n",
      "\n",
      "  warnings.warn(some_fits_failed_message, FitFailedWarning)\n",
      "/home/etudiant/anaconda3/lib/python3.9/site-packages/sklearn/model_selection/_search.py:969: UserWarning: One or more of the test scores are non-finite: [       nan        nan        nan        nan        nan        nan\n",
      "        nan        nan        nan        nan 0.82095238 0.82650794\n",
      " 0.82650794 0.86031746 0.85428571 0.86047619 0.85460317 0.88825397\n",
      " 0.84380952 0.87142857 0.82650794 0.84365079 0.85460317 0.87126984\n",
      " 0.87142857 0.87126984 0.87126984 0.88238095 0.89920635 0.89904762\n",
      " 0.83793651 0.8768254  0.86       0.88238095 0.88238095 0.88253968\n",
      " 0.88269841 0.89349206 0.89936508 0.9047619  0.82650794 0.89349206\n",
      " 0.88253968 0.86571429 0.89920635 0.89365079 0.89349206 0.89365079\n",
      " 0.91047619 0.89349206 0.83238095 0.8768254  0.87698413 0.89365079\n",
      " 0.8768254  0.89365079 0.91031746 0.91047619 0.88793651 0.91031746\n",
      " 0.8268254  0.86539683 0.86015873 0.8768254  0.89920635 0.89333333\n",
      " 0.88793651 0.8768254  0.9047619  0.89365079 0.82079365 0.84333333\n",
      " 0.88253968 0.88238095 0.88238095 0.88238095 0.88809524 0.88809524\n",
      " 0.89380952 0.89920635 0.80428571 0.86587302 0.86571429 0.88253968\n",
      " 0.87126984 0.89920635 0.88238095 0.89349206 0.87666667 0.89904762\n",
      " 0.83793651 0.8768254  0.89333333 0.8768254  0.88793651 0.87666667\n",
      " 0.88222222 0.89349206 0.88793651 0.89920635 0.80920635 0.86\n",
      " 0.86       0.87666667 0.87666667 0.90460317 0.88222222 0.88222222\n",
      " 0.9047619  0.89349206 0.82111111 0.87142857 0.8768254  0.88238095\n",
      " 0.87666667 0.87666667 0.89904762 0.8768254  0.87650794 0.89365079\n",
      " 0.81555556 0.81555556 0.8431746  0.85444444 0.87698413 0.87666667\n",
      " 0.88253968 0.89365079 0.88190476 0.89349206]\n",
      "  warnings.warn(\n"
     ]
    },
    {
     "data": {
      "text/plain": [
       "{'max_features': 20, 'max_samples': 0.9, 'n_estimators': 200}"
      ]
     },
     "execution_count": 97,
     "metadata": {},
     "output_type": "execute_result"
    }
   ],
   "source": [
    "clf_grid.fit(X_train,y_train)\n",
    "clf_grid.best_params_"
   ]
  },
  {
   "cell_type": "code",
   "execution_count": 98,
   "id": "67539854",
   "metadata": {},
   "outputs": [
    {
     "data": {
      "text/plain": [
       "0.9104761904761904"
      ]
     },
     "execution_count": 98,
     "metadata": {},
     "output_type": "execute_result"
    }
   ],
   "source": [
    "clf_grid.best_score_"
   ]
  },
  {
   "cell_type": "code",
   "execution_count": null,
   "id": "731d8a0f",
   "metadata": {},
   "outputs": [],
   "source": [
    "clf = BaggingClassifier(tree.DecisionTreeClassifier(),max_samples=1.0, max_features=0.5, n_estimators=40)"
   ]
  },
  {
   "cell_type": "markdown",
   "id": "a60cc699",
   "metadata": {},
   "source": [
    "# Forêts aléatoires"
   ]
  },
  {
   "cell_type": "code",
   "execution_count": 99,
   "id": "9904ecb8",
   "metadata": {},
   "outputs": [],
   "source": [
    "digits = load_digits()\n",
    "X, y = digits.data, digits.target\n",
    "from sklearn.model_selection import train_test_split\n",
    "X_train, X_test, y_train, y_test = train_test_split(X, y,\n",
    "test_size=0.90)"
   ]
  },
  {
   "cell_type": "code",
   "execution_count": 100,
   "id": "0d1a1bf6",
   "metadata": {},
   "outputs": [
    {
     "data": {
      "text/plain": [
       "RandomForestClassifier(n_estimators=200)"
      ]
     },
     "execution_count": 100,
     "metadata": {},
     "output_type": "execute_result"
    }
   ],
   "source": [
    "from sklearn.ensemble import RandomForestClassifier\n",
    "clf = RandomForestClassifier(n_estimators=200)\n",
    "clf.fit(X_train, y_train)"
   ]
  },
  {
   "cell_type": "code",
   "execution_count": 101,
   "id": "326c1c52",
   "metadata": {},
   "outputs": [
    {
     "name": "stdout",
     "output_type": "stream",
     "text": [
      "0.8918417799752781\n"
     ]
    }
   ],
   "source": [
    "y_pred = clf.predict(X_test)\n",
    "accuracy = clf.score(X_test,y_test)\n",
    "print(accuracy)"
   ]
  },
  {
   "cell_type": "code",
   "execution_count": null,
   "id": "c3b59a06",
   "metadata": {},
   "outputs": [],
   "source": []
  }
 ],
 "metadata": {
  "kernelspec": {
   "display_name": "Python 3 (ipykernel)",
   "language": "python",
   "name": "python3"
  },
  "language_info": {
   "codemirror_mode": {
    "name": "ipython",
    "version": 3
   },
   "file_extension": ".py",
   "mimetype": "text/x-python",
   "name": "python",
   "nbconvert_exporter": "python",
   "pygments_lexer": "ipython3",
   "version": "3.9.12"
  }
 },
 "nbformat": 4,
 "nbformat_minor": 5
}
