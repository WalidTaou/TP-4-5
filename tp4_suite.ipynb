{
  "nbformat": 4,
  "nbformat_minor": 0,
  "metadata": {
    "colab": {
      "provenance": []
    },
    "kernelspec": {
      "name": "python3",
      "display_name": "Python 3"
    },
    "language_info": {
      "name": "python"
    }
  },
  "cells": [
    {
      "cell_type": "markdown",
      "source": [
        "**Forêts aléatoires**"
      ],
      "metadata": {
        "id": "KfUiJNYLaOHi"
      }
    },
    {
      "cell_type": "code",
      "execution_count": 22,
      "metadata": {
        "id": "qFeqZAtlZs_q"
      },
      "outputs": [],
      "source": [
        "import numpy as np\n",
        "import matplotlib.pyplot as plt\n",
        "from sklearn.datasets import load_digits\n",
        "from sklearn.model_selection import train_test_split\n",
        "from sklearn.ensemble import RandomForestClassifier\n",
        "from sklearn.ensemble import ExtraTreesClassifier\n"
      ]
    },
    {
      "cell_type": "code",
      "source": [
        "digits = load_digits()\n",
        "X, y = digits.data, digits.target\n",
        "X_train, X_test, y_train, y_test = train_test_split(X, y,\n",
        "test_size=0.90)"
      ],
      "metadata": {
        "id": "8vJis3lgagvn"
      },
      "execution_count": 3,
      "outputs": []
    },
    {
      "cell_type": "code",
      "source": [
        "# train\n",
        "clf = RandomForestClassifier(n_estimators=200)\n",
        "clf.fit(X_train, y_train)\n",
        "# test\n",
        "y_pred = clf.predict(X_test)\n",
        "accuracy = clf.score(X_test,y_test)\n",
        "print(accuracy)"
      ],
      "metadata": {
        "colab": {
          "base_uri": "https://localhost:8080/"
        },
        "id": "IC96z0U_a-rm",
        "outputId": "bf0f5005-3341-44bd-d862-561b61591d94"
      },
      "execution_count": 8,
      "outputs": [
        {
          "output_type": "stream",
          "name": "stdout",
          "text": [
            "0.9048207663782447\n"
          ]
        }
      ]
    },
    {
      "cell_type": "markdown",
      "source": [
        "**Question**"
      ],
      "metadata": {
        "id": "9FIbHEyQcW0C"
      }
    },
    {
      "cell_type": "code",
      "source": [
        "# Comment la valeur de la variable accuracy se compare avec le cas bagging qui utilise le même nombre d’arbres (200 dans notre cas) ?\n",
        "# :: réponse :: \n",
        "#on compare le résultat  de l’algorithme des forêts aléatoires avec celle du cas bagging, notre accuracy augmente plus ( 89% -> 91%%)\n",
        "#, ce qui logique puisque l'algomètre  optimise les arbres de décision par la randomisation dans la sélection des attributs"
      ],
      "metadata": {
        "id": "MEambpxVcPj_"
      },
      "execution_count": 9,
      "outputs": []
    },
    {
      "cell_type": "markdown",
      "source": [
        "on compare le résultat  de l’algorithme des forêts aléatoires avec celle du cas bagging, notre accuracy augmente plus ( 89% -> 91%%), ce qui logique puisque l'algomètre  optimise les arbres de décision par la randomisation dans la sélection des attributs"
      ],
      "metadata": {
        "id": "obnJeQudd84u"
      }
    },
    {
      "cell_type": "markdown",
      "source": [
        "**Question**"
      ],
      "metadata": {
        "id": "3oXQKMVxeJqf"
      }
    },
    {
      "cell_type": "code",
      "source": [
        "# Construire la variance de la valeur accuracy sur 100 tirages pour la séparation apprentissage/test.\n",
        "list_accuracy = []\n",
        "for i in range(0,100):\n",
        "    X_train, X_test, y_train, y_test = train_test_split(X, y, test_size=0.90)\n",
        "    clf = RandomForestClassifier(n_estimators=200)\n",
        "    clf.fit(X_train, y_train)\n",
        "    accuracy = clf.score(X_test,y_test)\n",
        "    list_accuracy.append(accuracy)\n"
      ],
      "metadata": {
        "id": "adcz_n6od9iZ"
      },
      "execution_count": 15,
      "outputs": []
    },
    {
      "cell_type": "code",
      "source": [
        "print(f\"la moyenne d'accuracy pour les 100 tirages {np.mean(list_accuracy)}\")\n",
        "print(f\"la variance d'accuracy pour les 100 tirages {np.std(list_accuracy)}\")"
      ],
      "metadata": {
        "colab": {
          "base_uri": "https://localhost:8080/"
        },
        "id": "n70FUBc7fCdN",
        "outputId": "d16a9d6f-663c-41dd-d329-1f101ac65ba8"
      },
      "execution_count": 16,
      "outputs": [
        {
          "output_type": "stream",
          "name": "stdout",
          "text": [
            "la moyenne d'accuracy pour les 100 tirages 0.9120828182941904\n",
            "la variance d'accuracy pour les 100 tirages 0.01307585693190605\n"
          ]
        }
      ]
    },
    {
      "cell_type": "code",
      "source": [
        "# Que pouvons-nous conclure en comparant avec la séction précedente (bagging) ?\n",
        "# on trouve presque la même variance 0.013 (0.014) un erreur de 1% "
      ],
      "metadata": {
        "id": "cY8AHArof6w-"
      },
      "execution_count": 17,
      "outputs": []
    },
    {
      "cell_type": "markdown",
      "source": [
        "**Question :**"
      ],
      "metadata": {
        "id": "EdhnHOjFhU9-"
      }
    },
    {
      "cell_type": "code",
      "source": [
        "plt.figure()\n",
        "n_estm = []\n",
        "n_accuracy = []\n",
        "for i in range(1,200,5):\n",
        "    clf = RandomForestClassifier(n_estimators=i)\n",
        "    clf.fit(X_train, y_train)\n",
        "    accuracy = clf.score(X_test,y_test)\n",
        "    n_estm.append(i)\n",
        "    n_accuracy.append(accuracy)"
      ],
      "metadata": {
        "colab": {
          "base_uri": "https://localhost:8080/",
          "height": 34
        },
        "id": "WoS6bHLlgvA5",
        "outputId": "45a3fe47-93d6-425a-d64d-e72acf8733a7"
      },
      "execution_count": 18,
      "outputs": [
        {
          "output_type": "display_data",
          "data": {
            "text/plain": [
              "<Figure size 432x288 with 0 Axes>"
            ]
          },
          "metadata": {}
        }
      ]
    },
    {
      "cell_type": "code",
      "source": [
        "plt.figure()\n",
        "plt.plot(n_estm,n_accuracy)\n",
        "plt.xlabel('number of estimators')\n",
        "plt.ylabel('accuracy')\n",
        "plt.title('Random forest :Accuracy Vs number of estimator')\n",
        "plt.show()"
      ],
      "metadata": {
        "colab": {
          "base_uri": "https://localhost:8080/",
          "height": 295
        },
        "id": "39uKPjQShD8P",
        "outputId": "d55b0055-59ce-4a23-8e8d-e6d8d897d0ea"
      },
      "execution_count": 19,
      "outputs": [
        {
          "output_type": "display_data",
          "data": {
            "text/plain": [
              "<Figure size 432x288 with 1 Axes>"
            ],
            "image/png": "[encoded data removed]"
          },
          "metadata": {
            "needs_background": "light"
          }
        }
      ]
    },
    {
      "cell_type": "code",
      "source": [
        "#Que constatez-vous ? A partir de quelle valeur on n’améliore plus ?\n",
        "#on constate qu'à partir de nombres d'arbres 30 on à une accuracy qui est presque maximal et stable , et on améliore plus à partir du 50 ( convergence rapide)"
      ],
      "metadata": {
        "id": "Mlr2G9brhOAI"
      },
      "execution_count": 20,
      "outputs": []
    },
    {
      "cell_type": "markdown",
      "source": [
        "**Question :**"
      ],
      "metadata": {
        "id": "nDtgQtgciWMc"
      }
    },
    {
      "cell_type": "code",
      "source": [
        "# Regardez dans la documentation les ExtraTreesClassifier et refaites la classification avec ce type de classifieur. Comparez avec RandomForestClassifier\n",
        "# train\n",
        "clf = ExtraTreesClassifier(n_estimators=200)\n",
        "clf.fit(X_train, y_train)\n",
        "# test\n",
        "y_pred = clf.predict(X_test)\n",
        "accuracy = clf.score(X_test,y_test)\n",
        "print(accuracy)"
      ],
      "metadata": {
        "colab": {
          "base_uri": "https://localhost:8080/"
        },
        "id": "cwm1JGKAiPWQ",
        "outputId": "1404cbb4-76c1-4fc9-feb4-b64996ce0abd"
      },
      "execution_count": 23,
      "outputs": [
        {
          "output_type": "stream",
          "name": "stdout",
          "text": [
            "0.9351050679851669\n"
          ]
        }
      ]
    },
    {
      "cell_type": "code",
      "source": [
        "# notre accuracy s'améliore plus de 90% pour les random forest à 93% pour le classifieur ExtraTrees"
      ],
      "metadata": {
        "id": "8fGxU4YijPut"
      },
      "execution_count": 24,
      "outputs": []
    },
    {
      "cell_type": "markdown",
      "source": [
        "notre accuracy s'améliore plus de 90% pour les random forest à 93% pour le classifieur ExtraTrees"
      ],
      "metadata": {
        "id": "PyYhCx9pjm4S"
      }
    },
    {
      "cell_type": "markdown",
      "source": [
        "**Boosting**"
      ],
      "metadata": {
        "id": "foVzycDojwLG"
      }
    },
    {
      "cell_type": "code",
      "source": [
        "# Adaboost : Boosting model -> évaluer les classifieurs faibles  sur plusieurs versions légèrement modifiées des données d’apprentissage\n",
        "#                              + modèle final :  combinées par une somme pondérée les résultats\n",
        "from sklearn.ensemble import AdaBoostClassifier\n",
        "from sklearn import tree\n",
        "digits = load_digits()\n",
        "X, y = digits.data, digits.target\n",
        "X_train, X_test, y_train, y_test = train_test_split(X, y, test_size=0.90)\n",
        "# AdaBoost basé sur 200 arbres de décision\n",
        "clf = AdaBoostClassifier(base_estimator=tree.DecisionTreeClassifier(max_depth=5),n_estimators=200, learning_rate=2)\n",
        "clf.fit(X_train, y_train)\n",
        "accuracy = clf.score(X_test, y_test)\n",
        "print(accuracy)"
      ],
      "metadata": {
        "colab": {
          "base_uri": "https://localhost:8080/"
        },
        "id": "GaQ6z0tbjl0F",
        "outputId": "07566900-8628-4e41-8e42-3891cbf7d8a2"
      },
      "execution_count": 28,
      "outputs": [
        {
          "output_type": "stream",
          "name": "stdout",
          "text": [
            "0.9122373300370828\n"
          ]
        }
      ]
    },
    {
      "cell_type": "code",
      "source": [
        "# Question :\n",
        "\n",
        "# test pour Le paramètre max_depth\n",
        "accuracy_dict = {}\n",
        "for i in range(1,20):\n",
        "  clf = AdaBoostClassifier(base_estimator=tree.DecisionTreeClassifier(max_depth=i),n_estimators=200, learning_rate=2)\n",
        "  clf.fit(X_train, y_train)\n",
        "  accuracy = clf.score(X_test, y_test)\n",
        "  accuracy_dict[i] = accuracy\n",
        "accuracy_dict\n",
        "# impact\n"
      ],
      "metadata": {
        "colab": {
          "base_uri": "https://localhost:8080/"
        },
        "id": "mJkNTWcIkvpq",
        "outputId": "403eee84-d73a-4cbc-a268-fa58538b0666"
      },
      "execution_count": 35,
      "outputs": [
        {
          "output_type": "execute_result",
          "data": {
            "text/plain": [
              "{1: 0.7441285537700866,\n",
              " 2: 0.788627935723115,\n",
              " 3: 0.8355995055624228,\n",
              " 4: 0.8788627935723115,\n",
              " 5: 0.9134734239802225,\n",
              " 6: 0.9184177997527813,\n",
              " 7: 0.9239802224969098,\n",
              " 8: 0.9283065512978986,\n",
              " 9: 0.9196538936959209,\n",
              " 10: 0.6847960444993819,\n",
              " 11: 0.6489493201483313,\n",
              " 12: 0.6594561186650185,\n",
              " 13: 0.6606922126081582,\n",
              " 14: 0.6563658838071693,\n",
              " 15: 0.6353522867737948,\n",
              " 16: 0.6569839307787392,\n",
              " 17: 0.6606922126081582,\n",
              " 18: 0.642150803461063,\n",
              " 19: 0.6681087762669963}"
            ]
          },
          "metadata": {},
          "execution_count": 35
        }
      ]
    },
    {
      "cell_type": "code",
      "source": [
        "\n",
        "# Question :\n",
        "\n",
        "# test pour Le paramètre learning_rate\n",
        "accuracy_dict = {}\n",
        "for i in range(1,10):\n",
        "  clf = AdaBoostClassifier(base_estimator=tree.DecisionTreeClassifier(max_depth=5),n_estimators=200, learning_rate=i)\n",
        "  clf.fit(X_train, y_train)\n",
        "  accuracy = clf.score(X_test, y_test)\n",
        "  accuracy_dict[i] = accuracy\n",
        "accuracy_dict\n",
        "\n",
        "# impact"
      ],
      "metadata": {
        "colab": {
          "base_uri": "https://localhost:8080/"
        },
        "id": "nKDeLFVRlSfB",
        "outputId": "f00c2d32-6727-4c58-dd6a-86e20e0a8760"
      },
      "execution_count": 43,
      "outputs": [
        {
          "output_type": "execute_result",
          "data": {
            "text/plain": [
              "{1: 0.8881334981458591,\n",
              " 2: 0.9091470951792336,\n",
              " 3: 0.8887515451174289,\n",
              " 4: 0.8819530284301607,\n",
              " 5: 0.842398022249691,\n",
              " 6: 0.8244746600741656,\n",
              " 7: 0.8405438813349815,\n",
              " 8: 0.73053152039555,\n",
              " 9: 0.6681087762669963}"
            ]
          },
          "metadata": {},
          "execution_count": 43
        }
      ]
    },
    {
      "cell_type": "code",
      "source": [],
      "metadata": {
        "id": "RFE52CmilWex"
      },
      "execution_count": null,
      "outputs": []
    }
  ]
}